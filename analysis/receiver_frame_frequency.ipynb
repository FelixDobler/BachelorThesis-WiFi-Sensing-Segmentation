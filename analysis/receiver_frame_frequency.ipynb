{
 "cells": [
  {
   "cell_type": "code",
   "execution_count": 4,
   "metadata": {},
   "outputs": [
    {
     "name": "stdout",
     "output_type": "stream",
     "text": [
      "setVerbose: True\n"
     ]
    }
   ],
   "source": [
    "import csidata as cid\n",
    "cid.config.setVerbose(True)\n",
    "import os"
   ]
  },
  {
   "cell_type": "code",
   "execution_count": null,
   "metadata": {},
   "outputs": [
    {
     "name": "stdout",
     "output_type": "stream",
     "text": [
      "Detected file format: RAW_OWN\n",
      "Collected 40127 frames in 43.588666 seconds. Sample rate: 920.5833461386499 frames per second\n",
      "Detected file format: RAW_OWN\n",
      "Collected 47421 frames in 52.588981 seconds. Sample rate: 901.7288241428371 frames per second\n",
      "Detected file format: RAW_OWN\n",
      "Collected 40888 frames in 45.17053 seconds. Sample rate: 905.1919470504331 frames per second\n",
      "Detected file format: RAW_OWN\n",
      "Collected 53103 frames in 58.019739 seconds. Sample rate: 915.2574781489451 frames per second\n",
      "Detected file format: RAW_OWN\n",
      "Collected 53565 frames in 58.871181 seconds. Sample rate: 909.8679369112707 frames per second\n",
      "Detected file format: RAW_OWN\n",
      "Collected 44268 frames in 48.658632 seconds. Sample rate: 909.7666370891809 frames per second\n",
      "Detected file format: RAW_OWN\n",
      "Collected 47801 frames in 52.435443 seconds. Sample rate: 911.6162134836927 frames per second\n",
      "Detected file format: RAW_OWN\n",
      "Collected 46861 frames in 51.39493 seconds. Sample rate: 911.7825435310448 frames per second\n",
      "Detected file format: RAW_OWN\n",
      "Collected 49500 frames in 54.653626 seconds. Sample rate: 905.7038594291987 frames per second\n",
      "Detected file format: RAW_OWN\n",
      "Collected 41306 frames in 45.715099 seconds. Sample rate: 903.5526752331872 frames per second\n",
      "Detected file format: RAW_OWN\n",
      "Collected 37424 frames in 41.036492 seconds. Sample rate: 911.9687910945214 frames per second\n",
      "Detected file format: RAW_OWN\n",
      "Collected 41863 frames in 45.438419 seconds. Sample rate: 921.3128652209488 frames per second\n",
      "Detected file format: RAW_OWN\n",
      "Collected 52694 frames in 58.393617 seconds. Sample rate: 902.3931502650366 frames per second\n",
      "Detected file format: RAW_OWN\n",
      "Collected 53333 frames in 58.514864 seconds. Sample rate: 911.4436290922594 frames per second\n",
      "Detected file format: RAW_OWN\n",
      "Collected 43873 frames in 47.920659 seconds. Sample rate: 915.534154069125 frames per second\n",
      "Detected file format: RAW_OWN\n",
      "Collected 46546 frames in 51.510829 seconds. Sample rate: 903.6158202773246 frames per second\n",
      "Detected file format: RAW_OWN\n",
      "Collected 38637 frames in 42.336505 seconds. Sample rate: 912.6166649797851 frames per second\n",
      "Detected file format: RAW_OWN\n",
      "Collected 55832 frames in 61.526314 seconds. Sample rate: 907.4491281892817 frames per second\n",
      "Detected file format: RAW_OWN\n",
      "Collected 40095 frames in 43.728448 seconds. Sample rate: 916.9088278641858 frames per second\n",
      "Detected file format: RAW_OWN\n",
      "Collected 38678 frames in 42.303994 seconds. Sample rate: 914.2871947268146 frames per second\n",
      "Detected file format: RAW_OWN\n",
      "Collected 37878 frames in 41.289425 seconds. Sample rate: 917.3777547156445 frames per second\n",
      "Detected file format: RAW_OWN\n",
      "Collected 42769 frames in 46.635166 seconds. Sample rate: 917.0976254271294 frames per second\n",
      "Detected file format: RAW_OWN\n",
      "Collected 43796 frames in 47.854686 seconds. Sample rate: 915.1872817637964 frames per second\n",
      "Detected file format: RAW_OWN\n",
      "Collected 44256 frames in 49.348071 seconds. Sample rate: 896.8131702655612 frames per second\n",
      "Detected file format: RAW_OWN\n",
      "Collected 51372 frames in 56.293442 seconds. Sample rate: 912.5752161326359 frames per second\n",
      "Detected file format: RAW_OWN\n",
      "Collected 54590 frames in 59.682962 seconds. Sample rate: 914.6664001025954 frames per second\n",
      "Detected file format: RAW_OWN\n",
      "Collected 46418 frames in 51.164731 seconds. Sample rate: 907.2265033505208 frames per second\n",
      "Detected file format: RAW_OWN\n",
      "Collected 49198 frames in 54.68548 seconds. Sample rate: 899.6538020695805 frames per second\n",
      "Detected file format: RAW_OWN\n",
      "Collected 41639 frames in 45.439324 seconds. Sample rate: 916.3648649350505 frames per second\n"
     ]
    }
   ],
   "source": [
    "# iterate over files in 'record/prod_data/csi/user1/'\n",
    "dir = 'record/prod_data/csi/user1/'\n",
    "for file in os.listdir(dir):\n",
    "    if file.endswith('.raw'):\n",
    "        cid.load(os.path.join(dir, file))\n"
   ]
  },
  {
   "cell_type": "code",
   "execution_count": 14,
   "metadata": {},
   "outputs": [
    {
     "data": {
      "text/plain": [
       "'\\n920.5833461386499\\n901.7288241428371\\n905.1919470504331\\n915.2574781489451\\n909.8679369112707\\n909.7666370891809\\n911.6162134836927\\n911.7825435310448\\n905.7038594291987\\n903.5526752331872\\n911.9687910945214\\n921.3128652209488\\n902.3931502650366\\n911.4436290922594\\n915.534154069125\\n903.6158202773246\\n912.6166649797851\\n907.4491281892817\\n916.9088278641858\\n914.2871947268146\\n917.3777547156445\\n917.0976254271294\\n915.1872817637964\\n896.8131702655612\\n912.5752161326359\\n914.6664001025954\\n907.2265033505208\\n899.6538020695805\\n916.3648649350505\\n'"
      ]
     },
     "execution_count": 14,
     "metadata": {},
     "output_type": "execute_result"
    }
   ],
   "source": [
    "x = \"\"\"\n",
    "920.5833461386499\n",
    "901.7288241428371\n",
    "905.1919470504331\n",
    "915.2574781489451\n",
    "909.8679369112707\n",
    "909.7666370891809\n",
    "911.6162134836927\n",
    "911.7825435310448\n",
    "905.7038594291987\n",
    "903.5526752331872\n",
    "911.9687910945214\n",
    "921.3128652209488\n",
    "902.3931502650366\n",
    "911.4436290922594\n",
    "915.534154069125\n",
    "903.6158202773246\n",
    "912.6166649797851\n",
    "907.4491281892817\n",
    "916.9088278641858\n",
    "914.2871947268146\n",
    "917.3777547156445\n",
    "917.0976254271294\n",
    "915.1872817637964\n",
    "896.8131702655612\n",
    "912.5752161326359\n",
    "914.6664001025954\n",
    "907.2265033505208\n",
    "899.6538020695805\n",
    "916.3648649350505\n",
    "\"\"\"\n",
    "x"
   ]
  },
  {
   "cell_type": "code",
   "execution_count": null,
   "metadata": {},
   "outputs": [
    {
     "data": {
      "text/plain": [
       "(np.float64(910.6739415758702), np.float64(6.202921709017883))"
      ]
     },
     "execution_count": 19,
     "metadata": {},
     "output_type": "execute_result"
    }
   ],
   "source": [
    "import numpy as np\n",
    "frequencies = [float(i) for i in x.split()]\n",
    "avg = np.mean(frequencies)\n",
    "std = np.std(frequencies)\n",
    "avg, std"
   ]
  }
 ],
 "metadata": {
  "kernelspec": {
   "display_name": ".venv",
   "language": "python",
   "name": "python3"
  },
  "language_info": {
   "codemirror_mode": {
    "name": "ipython",
    "version": 3
   },
   "file_extension": ".py",
   "mimetype": "text/x-python",
   "name": "python",
   "nbconvert_exporter": "python",
   "pygments_lexer": "ipython3",
   "version": "3.12.7"
  }
 },
 "nbformat": 4,
 "nbformat_minor": 2
}
