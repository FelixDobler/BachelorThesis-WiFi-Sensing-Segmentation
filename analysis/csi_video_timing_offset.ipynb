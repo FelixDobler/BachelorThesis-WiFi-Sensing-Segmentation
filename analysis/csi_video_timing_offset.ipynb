{
 "cells": [
  {
   "cell_type": "code",
   "execution_count": 1,
   "metadata": {},
   "outputs": [],
   "source": [
    "from datetime import datetime\n",
    "import csidata as cid\n",
    "from os.path import basename, splitext\n",
    "import glob"
   ]
  },
  {
   "cell_type": "code",
   "execution_count": 2,
   "metadata": {},
   "outputs": [
    {
     "data": {
      "text/plain": [
       "20"
      ]
     },
     "execution_count": 2,
     "metadata": {},
     "output_type": "execute_result"
    }
   ],
   "source": [
    "csi_dir = 'recordings/csi/'\n",
    "video_dir = 'recordings/video/'\n",
    "files = glob.glob('2024-10-21*.raw', root_dir=csi_dir)\n",
    "len(files)"
   ]
  },
  {
   "cell_type": "code",
   "execution_count": 3,
   "metadata": {},
   "outputs": [
    {
     "name": "stdout",
     "output_type": "stream",
     "text": [
      "2024-10-21T17-54-30-682514.raw\n",
      "2024-10-21T17-56-18-620789.raw\n",
      "2024-10-21T17-54-50-275849.raw\n",
      "2024-10-21T17-54-21-090414.raw\n",
      "2024-10-21T19-22-56-923882.raw\n",
      "2024-10-21T17-58-43-935003.raw\n",
      "2024-10-21T17-53-52-546798.raw\n",
      "2024-10-21T17-54-11-987056.raw\n",
      "2024-10-21T17-54-58-691021.raw\n",
      "2024-10-21T17-57-43-638928.raw\n",
      "2024-10-21T17-55-07-363039.raw\n",
      "2024-10-21T17-56-39-244853.raw\n",
      "2024-10-21T17-58-23-918603.raw\n",
      "2024-10-21T17-57-51-806010.raw\n",
      "2024-10-21T17-56-28-980901.raw\n",
      "2024-10-21T17-54-03-290437.raw\n",
      "2024-10-21T17-54-41-346455.raw\n",
      "2024-10-21T17-55-57-149391.raw\n",
      "2024-10-21T17-58-08-430561.raw\n",
      "2024-10-21T19-23-12-972966.raw\n"
     ]
    }
   ],
   "source": [
    "offsets = {}\n",
    "for file in files:\n",
    "    print(basename(file))\n",
    "    csi_time = cid.load(csi_dir + file).status[0].tstamp\n",
    "    csi_time = datetime.fromtimestamp(csi_time/1e6)\n",
    "\n",
    "    name_time = datetime.strptime(splitext(file)[0], '%Y-%m-%dT%H-%M-%S-%f')\n",
    "\n",
    "    with open(video_dir + splitext(file)[0] + '.txt') as f:\n",
    "        for line in f:\n",
    "            # is a number?\n",
    "            if line.strip().isdigit():\n",
    "                ts = int(line.strip())\n",
    "                break\n",
    "    # print(ts)\n",
    "    first_frame_time = datetime.fromtimestamp(ts/1e3)\n",
    "    # first_frame_time\n",
    "    offsets[file] = (first_frame_time - csi_time).total_seconds()"
   ]
  },
  {
   "cell_type": "code",
   "execution_count": 4,
   "metadata": {},
   "outputs": [
    {
     "data": {
      "text/plain": [
       "<Axes: >"
      ]
     },
     "execution_count": 4,
     "metadata": {},
     "output_type": "execute_result"
    },
    {
     "data": {
      "image/png": "[encoded data removed]",
      "text/plain": [
       "<Figure size 640x480 with 1 Axes>"
      ]
     },
     "metadata": {},
     "output_type": "display_data"
    }
   ],
   "source": [
    "import seaborn as sns\n",
    "\n",
    "sns.boxplot(list(offsets.values()))"
   ]
  },
  {
   "cell_type": "code",
   "execution_count": 5,
   "metadata": {},
   "outputs": [
    {
     "data": {
      "text/plain": [
       "{'2024-10-21T17-54-30-682514.raw': 0.666454,\n",
       " '2024-10-21T17-56-18-620789.raw': 0.668016,\n",
       " '2024-10-21T17-54-50-275849.raw': 0.66391,\n",
       " '2024-10-21T17-54-21-090414.raw': 0.650765,\n",
       " '2024-10-21T19-22-56-923882.raw': 0.659969,\n",
       " '2024-10-21T17-58-43-935003.raw': 0.643899,\n",
       " '2024-10-21T17-53-52-546798.raw': 0.773441,\n",
       " '2024-10-21T17-54-11-987056.raw': 0.674515,\n",
       " '2024-10-21T17-54-58-691021.raw': 0.658949,\n",
       " '2024-10-21T17-57-43-638928.raw': 0.650976,\n",
       " '2024-10-21T17-55-07-363039.raw': 0.673725,\n",
       " '2024-10-21T17-56-39-244853.raw': 0.777822,\n",
       " '2024-10-21T17-58-23-918603.raw': 0.650269,\n",
       " '2024-10-21T17-57-51-806010.raw': 0.651047,\n",
       " '2024-10-21T17-56-28-980901.raw': 0.6514,\n",
       " '2024-10-21T17-54-03-290437.raw': 0.665828,\n",
       " '2024-10-21T17-54-41-346455.raw': 0.677995,\n",
       " '2024-10-21T17-55-57-149391.raw': 0.659088,\n",
       " '2024-10-21T17-58-08-430561.raw': 0.659234,\n",
       " '2024-10-21T19-23-12-972966.raw': 0.659527}"
      ]
     },
     "execution_count": 5,
     "metadata": {},
     "output_type": "execute_result"
    }
   ],
   "source": [
    "offsets"
   ]
  }
 ],
 "metadata": {
  "kernelspec": {
   "display_name": ".venv",
   "language": "python",
   "name": "python3"
  },
  "language_info": {
   "codemirror_mode": {
    "name": "ipython",
    "version": 3
   },
   "file_extension": ".py",
   "mimetype": "text/x-python",
   "name": "python",
   "nbconvert_exporter": "python",
   "pygments_lexer": "ipython3",
   "version": "3.12.7"
  }
 },
 "nbformat": 4,
 "nbformat_minor": 2
}
