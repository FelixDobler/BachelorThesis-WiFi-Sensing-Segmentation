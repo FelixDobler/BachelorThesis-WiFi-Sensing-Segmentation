{
 "cells": [
  {
   "cell_type": "code",
   "execution_count": 1,
   "metadata": {},
   "outputs": [],
   "source": [
    "%load_ext autoreload\n",
    "%autoreload now\n",
    "import csidata as cid\n",
    "from csidata.types import CSI_Struct"
   ]
  },
  {
   "cell_type": "code",
   "execution_count": 53,
   "metadata": {},
   "outputs": [],
   "source": [
    "# hdf5 file\n",
    "hdf5_file = './data/philipp_pushups_testing_56_reduced_carriers.mat'\n",
    "mat_file = './data/reduced_sample_rate.mat'\n",
    "joblib_file = './data/reduced_sample_rate_activity_testing_56.joblib'\n",
    "raw_file = './data/reduced_sample_rate_activity'"
   ]
  },
  {
   "cell_type": "code",
   "execution_count": 54,
   "metadata": {},
   "outputs": [
    {
     "name": "stdout",
     "output_type": "stream",
     "text": [
      "Detected file format: HDF5\n",
      "<class 'NoneType'> (311322, 1, 3, 30)\n",
      "Detected file format: MAT\n",
      "<class 'NoneType'> (10051, 90)\n",
      "Detected file format: JOBLIB\n",
      "<class 'list'> (30092, 3, 3, 56)\n",
      "Detected file format: RAW_OWN\n",
      "<class 'list'> (30092, 3, 3, 56)\n"
     ]
    }
   ],
   "source": [
    "for file in [hdf5_file, mat_file, joblib_file, raw_file]:\n",
    "    result = cid.load(file)\n",
    "    print(type(result.status), result.csi.shape)\n"
   ]
  },
  {
   "cell_type": "code",
   "execution_count": 2,
   "metadata": {},
   "outputs": [
    {
     "name": "stdout",
     "output_type": "stream",
     "text": [
      "Detected file format: RAW_OWN\n"
     ]
    },
    {
     "data": {
      "text/plain": [
       "(2967, 3, 3, 56)"
      ]
     },
     "execution_count": 2,
     "metadata": {},
     "output_type": "execute_result"
    }
   ],
   "source": [
    "res = cid.load(\"csi_recordings/2024-09-18T19-30-18.532395.raw\")\n",
    "res.csi.shape"
   ]
  }
 ],
 "metadata": {
  "kernelspec": {
   "display_name": ".venv",
   "language": "python",
   "name": "python3"
  },
  "language_info": {
   "codemirror_mode": {
    "name": "ipython",
    "version": 3
   },
   "file_extension": ".py",
   "mimetype": "text/x-python",
   "name": "python",
   "nbconvert_exporter": "python",
   "pygments_lexer": "ipython3",
   "version": "3.12.6"
  }
 },
 "nbformat": 4,
 "nbformat_minor": 2
}
