{
 "cells": [
  {
   "cell_type": "code",
   "execution_count": 52,
   "metadata": {},
   "outputs": [
    {
     "name": "stdout",
     "output_type": "stream",
     "text": [
      "The autoreload extension is already loaded. To reload it, use:\n",
      "  %reload_ext autoreload\n"
     ]
    }
   ],
   "source": [
    "%load_ext autoreload\n",
    "%autoreload now\n",
    "import csidata as cid\n",
    "from csidata.types import CSI_Struct"
   ]
  },
  {
   "cell_type": "code",
   "execution_count": 53,
   "metadata": {},
   "outputs": [],
   "source": [
    "# hdf5 file\n",
    "hdf5_file = './data/philipp_pushups_testing_56_reduced_carriers.mat'\n",
    "mat_file = './data/reduced_sample_rate.mat'\n",
    "joblib_file = './data/reduced_sample_rate_activity_testing_56.joblib'\n",
    "raw_file = './data/reduced_sample_rate_activity'"
   ]
  },
  {
   "cell_type": "code",
   "execution_count": 54,
   "metadata": {},
   "outputs": [
    {
     "name": "stdout",
     "output_type": "stream",
     "text": [
      "Detected file format: HDF5\n",
      "<class 'NoneType'> (311322, 1, 3, 30)\n",
      "Detected file format: MAT\n",
      "<class 'NoneType'> (10051, 90)\n",
      "Detected file format: JOBLIB\n",
      "<class 'list'> (30092, 3, 3, 56)\n",
      "Detected file format: RAW_OWN\n",
      "<class 'list'> (30092, 3, 3, 56)\n"
     ]
    }
   ],
   "source": [
    "for file in [hdf5_file, mat_file, joblib_file, raw_file]:\n",
    "    result = cid.load(file)\n",
    "    print(type(result.status), result.csi.shape)\n"
   ]
  }
 ],
 "metadata": {
  "kernelspec": {
   "display_name": ".venv",
   "language": "python",
   "name": "python3"
  },
  "language_info": {
   "codemirror_mode": {
    "name": "ipython",
    "version": 3
   },
   "file_extension": ".py",
   "mimetype": "text/x-python",
   "name": "python",
   "nbconvert_exporter": "python",
   "pygments_lexer": "ipython3",
   "version": "3.12.4"
  }
 },
 "nbformat": 4,
 "nbformat_minor": 2
}
