{
 "cells": [
  {
   "cell_type": "code",
   "execution_count": 1,
   "metadata": {},
   "outputs": [],
   "source": [
    "import io\n",
    "import subprocess\n",
    "from ipywidgets import widgets, interact\n",
    "from IPython.display import display"
   ]
  },
  {
   "cell_type": "code",
   "execution_count": 2,
   "metadata": {},
   "outputs": [
    {
     "data": {
      "application/vnd.jupyter.widget-view+json": {
       "model_id": "f182360a32c74c9383c008a404810ab5",
       "version_major": 2,
       "version_minor": 0
      },
      "text/plain": [
       "Image(value=b'')"
      ]
     },
     "metadata": {},
     "output_type": "display_data"
    },
    {
     "name": "stdout",
     "output_type": "stream",
     "text": [
      "2024-09-06 10:19:23.899231\n"
     ]
    }
   ],
   "source": [
    "import datetime\n",
    "from time import sleep\n",
    "\n",
    "\n",
    "video_mp4 =  subprocess.run(\"ffmpeg -v error -i record/recordings/2024-09-04T13-11-58+02-00.mp4 -f rawvideo pipe:\".split(), stdout=subprocess.PIPE, check=True)\n",
    "\n",
    "# for i in range(10):\n",
    "#     img = subprocess.run(['ffmpeg', '-v', 'error', '-f', 'rawvideo', '-pix_fmt', 'yuv422p', '-s', '1920x1080', '-i', 'pipe:', '-vf', f'select=eq(n\\\\,{i})', '-vframes', '1', '-f', 'image2', '-c:v', 'png', 'pipe:'], stdout=subprocess.PIPE, check=True, input=video_mp4.stdout)\n",
    "#     with open(f\"frame_{i}.png\", \"wb\") as f:\n",
    "#         f.write(img.stdout)\n",
    "\n",
    "image = widgets.Image()\n",
    "display(image)\n",
    "print(datetime.datetime.now())\n",
    "for i in range(10):\n",
    "    vid_to_img = subprocess.run(['ffmpeg', '-v', 'error', \n",
    "                                  '-f', 'rawvideo', '-pix_fmt', 'yuv422p', '-s', '1920x1080', '-i', 'pipe:', \n",
    "                                  '-vf', f'select=eq(n\\\\,{i})', '-vframes', '1', '-f', 'image2', '-c:v', 'png', 'pipe:'], \n",
    "                                  stdout=subprocess.PIPE, check=True, input=video_mp4.stdout)\n",
    "    image.value = vid_to_img.stdout\n",
    "    # sleep(1)\n",
    "\n",
    "\n"
   ]
  },
  {
   "cell_type": "code",
   "execution_count": 3,
   "metadata": {},
   "outputs": [
    {
     "name": "stdout",
     "output_type": "stream",
     "text": [
      "False\n"
     ]
    },
    {
     "name": "stderr",
     "output_type": "stream",
     "text": [
      "[rawvideo @ 0x3469380] [IMGUTILS @ 0x7fff4836b520] Picture size 0x0 is invalid\n"
     ]
    }
   ],
   "source": [
    "import cv2\n",
    "\n",
    "cap = cv2.VideoCapture('/home/felix/Documents/uni/BaProj/bachelorproject/record/recordings/2024-09-04T13-14-37+02-00.yuv')\n",
    "# play video\n",
    "print(cap.isOpened())\n",
    "while(cap.isOpened()):\n",
    "    ret, frame = cap.read()\n",
    "    if not ret:\n",
    "        break\n",
    "    cv2.imshow('frame', frame)\n",
    "    if cv2.waitKey(1) & 0xFF == ord('q'):\n",
    "        break"
   ]
  },
  {
   "cell_type": "code",
   "execution_count": 6,
   "metadata": {},
   "outputs": [
    {
     "name": "stdout",
     "output_type": "stream",
     "text": [
      "(1080, 1920)\n"
     ]
    }
   ],
   "source": [
    "import yuvio\n",
    "import cv2\n",
    "\n",
    "frame = yuvio.imread('/home/felix/Documents/uni/BaProj/bachelorproject/record/recordings/2024-09-04T13-14-37+02-00.yuv', 1920, 1080, 'yuv422p')\n",
    "print(frame.y.shape)\n",
    "cv2.imshow('y', frame.y)\n",
    "cv2.imshow('u', frame.u)\n",
    "cv2.imshow('v', frame.v)"
   ]
  },
  {
   "cell_type": "code",
   "execution_count": 5,
   "metadata": {},
   "outputs": [
    {
     "data": {
      "application/vnd.jupyter.widget-view+json": {
       "model_id": "b657f956e8404f3883050ef5acec4e50",
       "version_major": 2,
       "version_minor": 0
      },
      "text/plain": [
       "Image(value=b'')"
      ]
     },
     "metadata": {},
     "output_type": "display_data"
    },
    {
     "name": "stdout",
     "output_type": "stream",
     "text": [
      "0:00:00.274277\n",
      "0:00:00.111594\n",
      "0:00:00.108100\n",
      "0:00:00.107515\n",
      "0:00:00.113368\n",
      "0:00:00.172990\n",
      "0:00:00.112009\n",
      "0:00:00.176940\n",
      "0:00:00.185154\n",
      "0:00:00.179306\n"
     ]
    }
   ],
   "source": [
    "import av\n",
    "from ipywidgets import widgets, interact\n",
    "from IPython.display import display\n",
    "import io\n",
    "\n",
    "image = widgets.Image()\n",
    "container = av.open('/home/felix/Documents/uni/BaProj/bachelorproject/record/recordings/2024-09-04T13-11-58+02-00.mp4')\n",
    "frame_iterator =  container.decode(video=0)\n",
    "frames = list(frame_iterator)\n",
    "\n",
    "display(image)\n",
    "\n",
    "\n",
    "from datetime import datetime \n",
    "\n",
    "for i in range(10):\n",
    "    start = datetime.now()\n",
    "    frame = frames[i]\n",
    "    img_output = io.BytesIO()\n",
    "    frame.to_image().save(img_output, format='png')\n",
    "    image.value = img_output.getvalue()\n",
    "\n",
    "    print(datetime.now() - start)\n",
    "\n"
   ]
  }
 ],
 "metadata": {
  "kernelspec": {
   "display_name": ".venv",
   "language": "python",
   "name": "python3"
  },
  "language_info": {
   "codemirror_mode": {
    "name": "ipython",
    "version": 3
   },
   "file_extension": ".py",
   "mimetype": "text/x-python",
   "name": "python",
   "nbconvert_exporter": "python",
   "pygments_lexer": "ipython3",
   "version": "3.12.6"
  }
 },
 "nbformat": 4,
 "nbformat_minor": 2
}
