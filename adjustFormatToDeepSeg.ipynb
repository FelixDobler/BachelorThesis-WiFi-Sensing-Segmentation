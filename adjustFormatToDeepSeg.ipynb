{
 "cells": [
  {
   "cell_type": "code",
   "execution_count": 20,
   "metadata": {},
   "outputs": [],
   "source": [
    "import joblib\n",
    "import numpy as np\n",
    "import scipy.io as sio"
   ]
  },
  {
   "cell_type": "code",
   "execution_count": 21,
   "metadata": {},
   "outputs": [],
   "source": [
    "class CSI_Struct:\n",
    "    def __init__(self, tstamp, channel, chanBW, rate, nr, nc, num_tones, noise, phyerr, rssi, rssi_0, rssi_1, rssi_2, payload_len, csi_len, buf_len):\n",
    "        self.tstamp = tstamp\n",
    "        self.channel = channel\n",
    "        self.chanBW = chanBW\n",
    "        self.rate = rate\n",
    "        self.nr = nr\n",
    "        self.nc = nc\n",
    "        self.num_tones = num_tones\n",
    "        self.noise = noise\n",
    "        self.phyerr = phyerr\n",
    "        self.rssi = rssi\n",
    "        self.rssi_0 = rssi_0\n",
    "        self.rssi_1 = rssi_1\n",
    "        self.rssi_2 = rssi_2\n",
    "        self.payload_len = payload_len\n",
    "        self.csi_len = csi_len\n",
    "        self.buf_len = buf_len"
   ]
  },
  {
   "cell_type": "code",
   "execution_count": 22,
   "metadata": {},
   "outputs": [],
   "source": [
    "records = joblib.load('./data/reduced_sample_rate_activity_testing_56.joblib')\n",
    "csiMat = records[1]"
   ]
  },
  {
   "cell_type": "code",
   "execution_count": 23,
   "metadata": {},
   "outputs": [
    {
     "data": {
      "text/plain": [
       "[0,\n",
       " 2,\n",
       " 4,\n",
       " 6,\n",
       " 8,\n",
       " 10,\n",
       " 12,\n",
       " 14,\n",
       " 16,\n",
       " 18,\n",
       " 20,\n",
       " 22,\n",
       " 24,\n",
       " 26,\n",
       " 27,\n",
       " 28,\n",
       " 30,\n",
       " 32,\n",
       " 34,\n",
       " 36,\n",
       " 38,\n",
       " 40,\n",
       " 42,\n",
       " 44,\n",
       " 46,\n",
       " 48,\n",
       " 50,\n",
       " 52,\n",
       " 54,\n",
       " 55]"
      ]
     },
     "execution_count": 23,
     "metadata": {},
     "output_type": "execute_result"
    }
   ],
   "source": [
    "GROUPING_2_CARRIERS = ([-28,-26,-24,-22,-20,-18,-16,-14,-12,-10,-8,-6,-4,-2,-1],[1,3,5,7,9,11,13,15,17,19,21,23,25,27,28])\n",
    "subcar_ids = [car + 28 for car in GROUPING_2_CARRIERS[0]] + [car + 28 - 1 for car in GROUPING_2_CARRIERS[1]]\n",
    "# the subcarrier with id 0 is a null carrier without data... this shifts the index numbers of the second half of carriers down by 1\n",
    "subcar_ids"
   ]
  },
  {
   "cell_type": "code",
   "execution_count": 24,
   "metadata": {},
   "outputs": [
    {
     "data": {
      "text/plain": [
       "(30092, 3, 3, 56)"
      ]
     },
     "execution_count": 24,
     "metadata": {},
     "output_type": "execute_result"
    }
   ],
   "source": [
    "csiMat.shape"
   ]
  },
  {
   "cell_type": "code",
   "execution_count": 25,
   "metadata": {},
   "outputs": [
    {
     "data": {
      "text/plain": [
       "(30092, 3, 56)"
      ]
     },
     "execution_count": 25,
     "metadata": {},
     "output_type": "execute_result"
    }
   ],
   "source": [
    "# select the first transmit antenna only\n",
    "csi_one_rx = csiMat[:,:,0,:]\n",
    "csi_one_rx.shape"
   ]
  },
  {
   "cell_type": "code",
   "execution_count": 26,
   "metadata": {},
   "outputs": [
    {
     "data": {
      "text/plain": [
       "(30092, 3, 30)"
      ]
     },
     "execution_count": 26,
     "metadata": {},
     "output_type": "execute_result"
    }
   ],
   "source": [
    "# filter out the subcarriers we are interested in\n",
    "csi_one_rx_reduced_car:np.ndarray = csi_one_rx.take(subcar_ids, axis=2)\n",
    "csi_one_rx_reduced_car.shape"
   ]
  },
  {
   "cell_type": "code",
   "execution_count": 27,
   "metadata": {},
   "outputs": [
    {
     "data": {
      "text/plain": [
       "(30092, 90)"
      ]
     },
     "execution_count": 27,
     "metadata": {},
     "output_type": "execute_result"
    }
   ],
   "source": [
    "# bring data in format used by DeepSeg, where the csi values for all antennas are stored in a single dimension\n",
    "reshaped = csi_one_rx_reduced_car.reshape(-1, 90)\n",
    "reshaped.shape"
   ]
  },
  {
   "cell_type": "code",
   "execution_count": 28,
   "metadata": {},
   "outputs": [],
   "source": [
    "# store the csi_one_rx_reduced_car in a new '.mat' file using scipy.io.savemat\n",
    "sio.savemat('data/reduced_sample_rate_activity.mat', {'data': reshaped})"
   ]
  },
  {
   "cell_type": "code",
   "execution_count": 29,
   "metadata": {},
   "outputs": [
    {
     "data": {
      "text/plain": [
       "<Axes: ylabel='Count'>"
      ]
     },
     "execution_count": 29,
     "metadata": {},
     "output_type": "execute_result"
    },
    {
     "data": {
      "image/png": "[encoded data removed]",
      "text/plain": [
       "<Figure size 640x480 with 1 Axes>"
      ]
     },
     "metadata": {},
     "output_type": "display_data"
    }
   ],
   "source": [
    "import seaborn as sns\n",
    "sns.histplot(reshaped.flatten(), bins=100, kde=True)"
   ]
  }
 ],
 "metadata": {
  "kernelspec": {
   "display_name": ".venv",
   "language": "python",
   "name": "python3"
  },
  "language_info": {
   "codemirror_mode": {
    "name": "ipython",
    "version": 3
   },
   "file_extension": ".py",
   "mimetype": "text/x-python",
   "name": "python",
   "nbconvert_exporter": "python",
   "pygments_lexer": "ipython3",
   "version": "3.10.12"
  }
 },
 "nbformat": 4,
 "nbformat_minor": 2
}
