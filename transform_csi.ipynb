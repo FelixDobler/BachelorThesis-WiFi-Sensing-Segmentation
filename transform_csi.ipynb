{
 "cells": [
  {
   "cell_type": "code",
   "execution_count": 1,
   "metadata": {},
   "outputs": [],
   "source": [
    "import csidata as cid\n",
    "import os"
   ]
  },
  {
   "cell_type": "code",
   "execution_count": 2,
   "metadata": {},
   "outputs": [],
   "source": [
    "src_dir = 'analysis/outside_recording/'\n",
    "dst_dir = 'analysis/outside_recording/'"
   ]
  },
  {
   "cell_type": "code",
   "execution_count": 3,
   "metadata": {},
   "outputs": [
    {
     "name": "stdout",
     "output_type": "stream",
     "text": [
      "['2024-09-30T19-48-35_088931.raw', '2024-09-30T19-49-13_586703.raw', '2024-09-30T19-47-41_900134.raw', '2024-09-30T19-55-50_056812.raw', '2024-09-30T19-46-31_475437.raw']\n"
     ]
    }
   ],
   "source": [
    "raw_files = [file for file in os.listdir(src_dir) if file.endswith('.raw')]\n",
    "print(raw_files)"
   ]
  },
  {
   "cell_type": "code",
   "execution_count": 4,
   "metadata": {},
   "outputs": [
    {
     "name": "stdout",
     "output_type": "stream",
     "text": [
      "Processing 2024-09-30T19-48-35_088931.raw\n",
      "Processing 2024-09-30T19-49-13_586703.raw\n",
      "Processing 2024-09-30T19-47-41_900134.raw\n",
      "Processing 2024-09-30T19-55-50_056812.raw\n",
      "Processing 2024-09-30T19-46-31_475437.raw\n"
     ]
    }
   ],
   "source": [
    "for file in raw_files:\n",
    "    print(f\"Processing {file}\")\n",
    "    data = cid.load(os.path.join(src_dir, file), cid.FileFormat.RAW_OWN)\n",
    "    dst_filename = os.path.join(dst_dir, os.path.splitext(file)[0] + '.joblib')\n",
    "    cid.save(dst_filename, data)"
   ]
  }
 ],
 "metadata": {
  "kernelspec": {
   "display_name": ".venv",
   "language": "python",
   "name": "python3"
  },
  "language_info": {
   "codemirror_mode": {
    "name": "ipython",
    "version": 3
   },
   "file_extension": ".py",
   "mimetype": "text/x-python",
   "name": "python",
   "nbconvert_exporter": "python",
   "pygments_lexer": "ipython3",
   "version": "3.12.6"
  }
 },
 "nbformat": 4,
 "nbformat_minor": 2
}
