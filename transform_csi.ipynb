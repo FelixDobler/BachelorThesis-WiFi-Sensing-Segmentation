{
 "cells": [
  {
   "cell_type": "code",
   "execution_count": 1,
   "metadata": {},
   "outputs": [],
   "source": [
    "import csidata as cid\n",
    "import os"
   ]
  },
  {
   "cell_type": "code",
   "execution_count": 2,
   "metadata": {},
   "outputs": [],
   "source": [
    "src_dir = 'record/prod_data/csi/user1/'\n",
    "dst_dir = 'record/prod_data/csi/user1/'"
   ]
  },
  {
   "cell_type": "code",
   "execution_count": 3,
   "metadata": {},
   "outputs": [
    {
     "name": "stdout",
     "output_type": "stream",
     "text": [
      "['2024-10-11T17-11-48-279807_seq-ph.raw', '2024-10-11T17-28-59-804945_seq-sd.raw', '2024-10-11T16-53-18-669897_seq-iw.raw', '2024-10-11T17-23-58-202160_seq-sd.raw', '2024-10-11T17-49-22-699238_seq-wd.raw', '2024-10-11T17-53-07-740347_seq-wd.raw', '2024-10-11T17-17-06-928945_seq-rp.raw', '2024-10-11T17-31-45-171551_seq-sd.raw', '2024-10-11T17-27-50-910991_seq-sd.raw', '2024-10-11T17-32-50-910010_seq-sd.raw', '2024-10-11T16-57-15-673881_seq-iw.raw', '2024-10-11T16-56-16-370969_seq-iw.raw', '2024-10-11T17-41-14-403152_seq-wd.raw', '2024-10-11T17-16-06-407371_seq-rp.raw', '2024-10-11T16-49-24-891620_seq-iw.raw', '2024-10-11T17-50-36-100037_seq-wd.raw', '2024-10-11T17-46-37-311054_seq-wd.raw', '2024-10-11T16-54-58-944612_seq-iw.raw', '2024-10-11T17-44-29-468211_seq-wd.raw', '2024-10-11T17-19-40-755138_seq-rp.raw', '2024-10-11T17-05-49-170291_seq-ph.raw', '2024-10-11T17-48-01-357582_seq-wd.raw', '2024-10-11T16-59-29-810390_seq-iw.raw', '2024-10-11T17-06-48-096612_seq-ph.raw', '2024-10-11T17-09-06-000850_seq-ph.raw', '2024-10-11T17-04-18-741718_seq-ph.raw', '2024-10-11T16-51-45-361306_seq-iw.raw', '2024-10-11T16-58-25-139337_seq-iw.raw', '2024-10-11T17-18-38-301779_seq-rp.raw', '2024-10-11T17-20-49-594629_seq-rp.raw', '2024-10-11T17-30-24-686743_seq-sd.raw', '2024-10-11T17-51-49-659091_seq-wd.raw', '2024-10-11T17-02-22-296947_seq-ph.raw', '2024-10-11T17-24-50-860221_seq-sd.raw', '2024-10-11T16-03-26-928082.raw', '2024-10-11T17-14-07-312598_seq-rp.raw']\n"
     ]
    }
   ],
   "source": [
    "raw_files = [file for file in os.listdir(src_dir) if file.endswith('.raw')]\n",
    "print(raw_files)"
   ]
  },
  {
   "cell_type": "code",
   "execution_count": 4,
   "metadata": {},
   "outputs": [
    {
     "name": "stdout",
     "output_type": "stream",
     "text": [
      "Processing 2024-10-11T17-11-48-279807_seq-ph.raw\n",
      "{'ts': '2024-10-11T17-11-48-279807', 'act': None, 'seq': 'ph'}\n",
      "Processing 2024-10-11T17-28-59-804945_seq-sd.raw\n",
      "{'ts': '2024-10-11T17-28-59-804945', 'act': None, 'seq': 'sd'}\n",
      "Processing 2024-10-11T16-53-18-669897_seq-iw.raw\n",
      "{'ts': '2024-10-11T16-53-18-669897', 'act': None, 'seq': 'iw'}\n",
      "Processing 2024-10-11T17-23-58-202160_seq-sd.raw\n",
      "{'ts': '2024-10-11T17-23-58-202160', 'act': None, 'seq': 'sd'}\n",
      "Processing 2024-10-11T17-49-22-699238_seq-wd.raw\n",
      "{'ts': '2024-10-11T17-49-22-699238', 'act': None, 'seq': 'wd'}\n",
      "Processing 2024-10-11T17-53-07-740347_seq-wd.raw\n",
      "{'ts': '2024-10-11T17-53-07-740347', 'act': None, 'seq': 'wd'}\n",
      "Processing 2024-10-11T17-17-06-928945_seq-rp.raw\n",
      "{'ts': '2024-10-11T17-17-06-928945', 'act': None, 'seq': 'rp'}\n",
      "Processing 2024-10-11T17-31-45-171551_seq-sd.raw\n",
      "{'ts': '2024-10-11T17-31-45-171551', 'act': None, 'seq': 'sd'}\n",
      "Processing 2024-10-11T17-27-50-910991_seq-sd.raw\n",
      "{'ts': '2024-10-11T17-27-50-910991', 'act': None, 'seq': 'sd'}\n",
      "Processing 2024-10-11T17-32-50-910010_seq-sd.raw\n",
      "{'ts': '2024-10-11T17-32-50-910010', 'act': None, 'seq': 'sd'}\n",
      "Processing 2024-10-11T16-57-15-673881_seq-iw.raw\n",
      "{'ts': '2024-10-11T16-57-15-673881', 'act': None, 'seq': 'iw'}\n",
      "Processing 2024-10-11T16-56-16-370969_seq-iw.raw\n",
      "{'ts': '2024-10-11T16-56-16-370969', 'act': None, 'seq': 'iw'}\n",
      "Processing 2024-10-11T17-41-14-403152_seq-wd.raw\n",
      "{'ts': '2024-10-11T17-41-14-403152', 'act': None, 'seq': 'wd'}\n",
      "Processing 2024-10-11T17-16-06-407371_seq-rp.raw\n",
      "{'ts': '2024-10-11T17-16-06-407371', 'act': None, 'seq': 'rp'}\n",
      "Processing 2024-10-11T16-49-24-891620_seq-iw.raw\n",
      "{'ts': '2024-10-11T16-49-24-891620', 'act': None, 'seq': 'iw'}\n",
      "Processing 2024-10-11T17-50-36-100037_seq-wd.raw\n",
      "{'ts': '2024-10-11T17-50-36-100037', 'act': None, 'seq': 'wd'}\n",
      "Processing 2024-10-11T17-46-37-311054_seq-wd.raw\n",
      "{'ts': '2024-10-11T17-46-37-311054', 'act': None, 'seq': 'wd'}\n",
      "Processing 2024-10-11T16-54-58-944612_seq-iw.raw\n",
      "{'ts': '2024-10-11T16-54-58-944612', 'act': None, 'seq': 'iw'}\n",
      "Processing 2024-10-11T17-44-29-468211_seq-wd.raw\n",
      "{'ts': '2024-10-11T17-44-29-468211', 'act': None, 'seq': 'wd'}\n",
      "Processing 2024-10-11T17-19-40-755138_seq-rp.raw\n",
      "{'ts': '2024-10-11T17-19-40-755138', 'act': None, 'seq': 'rp'}\n",
      "Processing 2024-10-11T17-05-49-170291_seq-ph.raw\n",
      "{'ts': '2024-10-11T17-05-49-170291', 'act': None, 'seq': 'ph'}\n",
      "Processing 2024-10-11T17-48-01-357582_seq-wd.raw\n",
      "{'ts': '2024-10-11T17-48-01-357582', 'act': None, 'seq': 'wd'}\n",
      "Processing 2024-10-11T16-59-29-810390_seq-iw.raw\n",
      "{'ts': '2024-10-11T16-59-29-810390', 'act': None, 'seq': 'iw'}\n",
      "Processing 2024-10-11T17-06-48-096612_seq-ph.raw\n",
      "{'ts': '2024-10-11T17-06-48-096612', 'act': None, 'seq': 'ph'}\n",
      "Processing 2024-10-11T17-09-06-000850_seq-ph.raw\n",
      "{'ts': '2024-10-11T17-09-06-000850', 'act': None, 'seq': 'ph'}\n",
      "Processing 2024-10-11T17-04-18-741718_seq-ph.raw\n",
      "{'ts': '2024-10-11T17-04-18-741718', 'act': None, 'seq': 'ph'}\n",
      "Processing 2024-10-11T16-51-45-361306_seq-iw.raw\n",
      "{'ts': '2024-10-11T16-51-45-361306', 'act': None, 'seq': 'iw'}\n",
      "Processing 2024-10-11T16-58-25-139337_seq-iw.raw\n",
      "{'ts': '2024-10-11T16-58-25-139337', 'act': None, 'seq': 'iw'}\n",
      "Processing 2024-10-11T17-18-38-301779_seq-rp.raw\n",
      "{'ts': '2024-10-11T17-18-38-301779', 'act': None, 'seq': 'rp'}\n",
      "Processing 2024-10-11T17-20-49-594629_seq-rp.raw\n",
      "{'ts': '2024-10-11T17-20-49-594629', 'act': None, 'seq': 'rp'}\n",
      "Processing 2024-10-11T17-30-24-686743_seq-sd.raw\n",
      "{'ts': '2024-10-11T17-30-24-686743', 'act': None, 'seq': 'sd'}\n",
      "Processing 2024-10-11T17-51-49-659091_seq-wd.raw\n",
      "{'ts': '2024-10-11T17-51-49-659091', 'act': None, 'seq': 'wd'}\n",
      "Processing 2024-10-11T17-02-22-296947_seq-ph.raw\n",
      "{'ts': '2024-10-11T17-02-22-296947', 'act': None, 'seq': 'ph'}\n",
      "Processing 2024-10-11T17-24-50-860221_seq-sd.raw\n",
      "{'ts': '2024-10-11T17-24-50-860221', 'act': None, 'seq': 'sd'}\n",
      "Processing 2024-10-11T16-03-26-928082.raw\n",
      "{'ts': '2024-10-11T16-03-26-928082', 'act': None, 'seq': None}\n",
      "Processing 2024-10-11T17-14-07-312598_seq-rp.raw\n",
      "{'ts': '2024-10-11T17-14-07-312598', 'act': None, 'seq': 'rp'}\n"
     ]
    }
   ],
   "source": [
    "for file in raw_files:\n",
    "    print(f\"Processing {file}\")\n",
    "    data = cid.load(os.path.join(src_dir, file), cid.FileFormat.RAW_OWN)\n",
    "    dst_filename = os.path.join(dst_dir, os.path.splitext(file)[0] + '.joblib')\n",
    "    cid.save(dst_filename, data)"
   ]
  },
  {
   "cell_type": "code",
   "execution_count": null,
   "metadata": {},
   "outputs": [],
   "source": []
  }
 ],
 "metadata": {
  "kernelspec": {
   "display_name": ".venv",
   "language": "python",
   "name": "python3"
  },
  "language_info": {
   "codemirror_mode": {
    "name": "ipython",
    "version": 3
   },
   "file_extension": ".py",
   "mimetype": "text/x-python",
   "name": "python",
   "nbconvert_exporter": "python",
   "pygments_lexer": "ipython3",
   "version": "3.12.7"
  }
 },
 "nbformat": 4,
 "nbformat_minor": 2
}
