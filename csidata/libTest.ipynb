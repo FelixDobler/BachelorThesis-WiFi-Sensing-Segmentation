{
 "cells": [
  {
   "cell_type": "code",
   "execution_count": 1,
   "metadata": {},
   "outputs": [],
   "source": [
    "%load_ext autoreload\n",
    "%autoreload now\n",
    "import csidata as cid\n",
    "from csidata.types import CSI_Struct"
   ]
  },
  {
   "cell_type": "code",
   "execution_count": 2,
   "metadata": {},
   "outputs": [],
   "source": [
    "hdf5_file = './data/user1_pushups_testing_56_reduced_carriers.mat'\n",
    "mat_file = './data/reduced_sample_rate.mat'\n",
    "joblib_file = './data/reduced_sample_rate_activity_testing_56.joblib'\n",
    "raw_file = './data/reduced_sample_rate_activity'"
   ]
  },
  {
   "cell_type": "code",
   "execution_count": 3,
   "metadata": {},
   "outputs": [
    {
     "ename": "TypeError",
     "evalue": "'NoneType' object is not subscriptable",
     "output_type": "error",
     "traceback": [
      "\u001b[0;31m---------------------------------------------------------------------------\u001b[0m",
      "\u001b[0;31mTypeError\u001b[0m                                 Traceback (most recent call last)",
      "Cell \u001b[0;32mIn[3], line 2\u001b[0m\n\u001b[1;32m      1\u001b[0m \u001b[38;5;28;01mfor\u001b[39;00m file \u001b[38;5;129;01min\u001b[39;00m [hdf5_file, mat_file, joblib_file, raw_file]:\n\u001b[0;32m----> 2\u001b[0m     result \u001b[38;5;241m=\u001b[39m \u001b[43mcid\u001b[49m\u001b[38;5;241;43m.\u001b[39;49m\u001b[43mload\u001b[49m\u001b[43m(\u001b[49m\u001b[43mfile\u001b[49m\u001b[43m)\u001b[49m\n\u001b[1;32m      3\u001b[0m     \u001b[38;5;28mprint\u001b[39m(\u001b[38;5;28mtype\u001b[39m(result\u001b[38;5;241m.\u001b[39mstatus), result\u001b[38;5;241m.\u001b[39mcsi\u001b[38;5;241m.\u001b[39mshape)\n",
      "File \u001b[0;32m~/Documents/uni/BaProj/bachelorproject/csidata/load.py:35\u001b[0m, in \u001b[0;36mload\u001b[0;34m(filename, format)\u001b[0m\n\u001b[1;32m     33\u001b[0m     \u001b[38;5;28;01melif\u001b[39;00m \u001b[38;5;28mtype\u001b[39m \u001b[38;5;129;01min\u001b[39;00m Activity:\n\u001b[1;32m     34\u001b[0m         data\u001b[38;5;241m.\u001b[39mactivity \u001b[38;5;241m=\u001b[39m \u001b[38;5;28mtype\u001b[39m\n\u001b[0;32m---> 35\u001b[0m \u001b[43mget_sample_rate\u001b[49m\u001b[43m(\u001b[49m\u001b[43mdata\u001b[49m\u001b[43m)\u001b[49m\n\u001b[1;32m     36\u001b[0m \u001b[38;5;28;01mreturn\u001b[39;00m data\n",
      "File \u001b[0;32m~/Documents/uni/BaProj/bachelorproject/csidata/stats.py:6\u001b[0m, in \u001b[0;36mget_sample_rate\u001b[0;34m(data)\u001b[0m\n\u001b[1;32m      5\u001b[0m \u001b[38;5;28;01mdef\u001b[39;00m \u001b[38;5;21mget_sample_rate\u001b[39m(data: CSI_Result) \u001b[38;5;241m-\u001b[39m\u001b[38;5;241m>\u001b[39m \u001b[38;5;28mfloat\u001b[39m:\n\u001b[0;32m----> 6\u001b[0m     first_frame \u001b[38;5;241m=\u001b[39m \u001b[43mdata\u001b[49m\u001b[38;5;241;43m.\u001b[39;49m\u001b[43mstatus\u001b[49m\u001b[43m[\u001b[49m\u001b[38;5;241;43m0\u001b[39;49m\u001b[43m]\u001b[49m\u001b[38;5;241m.\u001b[39mtstamp\n\u001b[1;32m      7\u001b[0m     last_frame \u001b[38;5;241m=\u001b[39m data\u001b[38;5;241m.\u001b[39mstatus[\u001b[38;5;241m-\u001b[39m\u001b[38;5;241m1\u001b[39m]\u001b[38;5;241m.\u001b[39mtstamp\n\u001b[1;32m      9\u001b[0m     time_diff \u001b[38;5;241m=\u001b[39m last_frame \u001b[38;5;241m-\u001b[39m first_frame\n",
      "\u001b[0;31mTypeError\u001b[0m: 'NoneType' object is not subscriptable"
     ]
    }
   ],
   "source": [
    "for file in [hdf5_file, mat_file, joblib_file, raw_file]:\n",
    "    result = cid.load(file)\n",
    "    print(type(result.status), result.csi.shape)\n"
   ]
  },
  {
   "cell_type": "code",
   "execution_count": null,
   "metadata": {},
   "outputs": [
    {
     "name": "stdout",
     "output_type": "stream",
     "text": [
      "Detected file format: RAW_OWN\n"
     ]
    },
    {
     "data": {
      "text/plain": [
       "(2967, 3, 3, 56)"
      ]
     },
     "execution_count": 2,
     "metadata": {},
     "output_type": "execute_result"
    }
   ],
   "source": [
    "res = cid.load(\"csi_recordings/2024-09-18T19-30-18.532395.raw\")\n",
    "res.csi.shape"
   ]
  }
 ],
 "metadata": {
  "kernelspec": {
   "display_name": ".venv",
   "language": "python",
   "name": "python3"
  },
  "language_info": {
   "codemirror_mode": {
    "name": "ipython",
    "version": 3
   },
   "file_extension": ".py",
   "mimetype": "text/x-python",
   "name": "python",
   "nbconvert_exporter": "python",
   "pygments_lexer": "ipython3",
   "version": "3.12.7"
  }
 },
 "nbformat": 4,
 "nbformat_minor": 2
}
