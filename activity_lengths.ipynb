{
 "cells": [
  {
   "cell_type": "code",
   "execution_count": 2,
   "metadata": {},
   "outputs": [],
   "source": [
    "import pandas as pd"
   ]
  },
  {
   "cell_type": "code",
   "execution_count": 13,
   "metadata": {},
   "outputs": [
    {
     "data": {
      "text/html": [
       "<div>\n",
       "<style scoped>\n",
       "    .dataframe tbody tr th:only-of-type {\n",
       "        vertical-align: middle;\n",
       "    }\n",
       "\n",
       "    .dataframe tbody tr th {\n",
       "        vertical-align: top;\n",
       "    }\n",
       "\n",
       "    .dataframe thead th {\n",
       "        text-align: right;\n",
       "    }\n",
       "</style>\n",
       "<table border=\"1\" class=\"dataframe\">\n",
       "  <thead>\n",
       "    <tr style=\"text-align: right;\">\n",
       "      <th></th>\n",
       "      <th>fileNumber</th>\n",
       "      <th>activityNumber</th>\n",
       "      <th>startPoint</th>\n",
       "      <th>endPoint</th>\n",
       "      <th>fileName</th>\n",
       "      <th>activityCategory</th>\n",
       "    </tr>\n",
       "  </thead>\n",
       "  <tbody>\n",
       "    <tr>\n",
       "      <th>0</th>\n",
       "      <td>1</td>\n",
       "      <td>1</td>\n",
       "      <td>114</td>\n",
       "      <td>225</td>\n",
       "      <td>2024-10-11T16-53-18-669897_seq-iw</td>\n",
       "      <td>1</td>\n",
       "    </tr>\n",
       "    <tr>\n",
       "      <th>1</th>\n",
       "      <td>1</td>\n",
       "      <td>2</td>\n",
       "      <td>302</td>\n",
       "      <td>408</td>\n",
       "      <td>2024-10-11T16-53-18-669897_seq-iw</td>\n",
       "      <td>1</td>\n",
       "    </tr>\n",
       "    <tr>\n",
       "      <th>2</th>\n",
       "      <td>1</td>\n",
       "      <td>3</td>\n",
       "      <td>634</td>\n",
       "      <td>745</td>\n",
       "      <td>2024-10-11T16-53-18-669897_seq-iw</td>\n",
       "      <td>1</td>\n",
       "    </tr>\n",
       "    <tr>\n",
       "      <th>3</th>\n",
       "      <td>1</td>\n",
       "      <td>4</td>\n",
       "      <td>809</td>\n",
       "      <td>929</td>\n",
       "      <td>2024-10-11T16-53-18-669897_seq-iw</td>\n",
       "      <td>1</td>\n",
       "    </tr>\n",
       "    <tr>\n",
       "      <th>4</th>\n",
       "      <td>1</td>\n",
       "      <td>5</td>\n",
       "      <td>984</td>\n",
       "      <td>1126</td>\n",
       "      <td>2024-10-11T16-53-18-669897_seq-iw</td>\n",
       "      <td>1</td>\n",
       "    </tr>\n",
       "    <tr>\n",
       "      <th>...</th>\n",
       "      <td>...</td>\n",
       "      <td>...</td>\n",
       "      <td>...</td>\n",
       "      <td>...</td>\n",
       "      <td>...</td>\n",
       "      <td>...</td>\n",
       "    </tr>\n",
       "    <tr>\n",
       "      <th>285</th>\n",
       "      <td>29</td>\n",
       "      <td>6</td>\n",
       "      <td>1416</td>\n",
       "      <td>1518</td>\n",
       "      <td>2024-10-11T17-53-07-740347_seq-wd</td>\n",
       "      <td>10</td>\n",
       "    </tr>\n",
       "    <tr>\n",
       "      <th>286</th>\n",
       "      <td>29</td>\n",
       "      <td>7</td>\n",
       "      <td>1663</td>\n",
       "      <td>1763</td>\n",
       "      <td>2024-10-11T17-53-07-740347_seq-wd</td>\n",
       "      <td>10</td>\n",
       "    </tr>\n",
       "    <tr>\n",
       "      <th>287</th>\n",
       "      <td>29</td>\n",
       "      <td>8</td>\n",
       "      <td>1913</td>\n",
       "      <td>2015</td>\n",
       "      <td>2024-10-11T17-53-07-740347_seq-wd</td>\n",
       "      <td>10</td>\n",
       "    </tr>\n",
       "    <tr>\n",
       "      <th>288</th>\n",
       "      <td>29</td>\n",
       "      <td>9</td>\n",
       "      <td>2180</td>\n",
       "      <td>2275</td>\n",
       "      <td>2024-10-11T17-53-07-740347_seq-wd</td>\n",
       "      <td>10</td>\n",
       "    </tr>\n",
       "    <tr>\n",
       "      <th>289</th>\n",
       "      <td>29</td>\n",
       "      <td>10</td>\n",
       "      <td>2401</td>\n",
       "      <td>2501</td>\n",
       "      <td>2024-10-11T17-53-07-740347_seq-wd</td>\n",
       "      <td>10</td>\n",
       "    </tr>\n",
       "  </tbody>\n",
       "</table>\n",
       "<p>290 rows × 6 columns</p>\n",
       "</div>"
      ],
      "text/plain": [
       "     fileNumber  activityNumber  startPoint  endPoint  \\\n",
       "0             1               1         114       225   \n",
       "1             1               2         302       408   \n",
       "2             1               3         634       745   \n",
       "3             1               4         809       929   \n",
       "4             1               5         984      1126   \n",
       "..          ...             ...         ...       ...   \n",
       "285          29               6        1416      1518   \n",
       "286          29               7        1663      1763   \n",
       "287          29               8        1913      2015   \n",
       "288          29               9        2180      2275   \n",
       "289          29              10        2401      2501   \n",
       "\n",
       "                              fileName  activityCategory  \n",
       "0    2024-10-11T16-53-18-669897_seq-iw                 1  \n",
       "1    2024-10-11T16-53-18-669897_seq-iw                 1  \n",
       "2    2024-10-11T16-53-18-669897_seq-iw                 1  \n",
       "3    2024-10-11T16-53-18-669897_seq-iw                 1  \n",
       "4    2024-10-11T16-53-18-669897_seq-iw                 1  \n",
       "..                                 ...               ...  \n",
       "285  2024-10-11T17-53-07-740347_seq-wd                10  \n",
       "286  2024-10-11T17-53-07-740347_seq-wd                10  \n",
       "287  2024-10-11T17-53-07-740347_seq-wd                10  \n",
       "288  2024-10-11T17-53-07-740347_seq-wd                10  \n",
       "289  2024-10-11T17-53-07-740347_seq-wd                10  \n",
       "\n",
       "[290 rows x 6 columns]"
      ]
     },
     "execution_count": 13,
     "metadata": {},
     "output_type": "execute_result"
    }
   ],
   "source": [
    "df = pd.read_csv('record/prod_data/user1.csv')\n",
    "df"
   ]
  },
  {
   "cell_type": "code",
   "execution_count": 14,
   "metadata": {},
   "outputs": [
    {
     "data": {
      "text/plain": [
       "count    290.000000\n",
       "mean     100.141379\n",
       "std       14.054171\n",
       "min       63.000000\n",
       "25%       90.000000\n",
       "50%      100.000000\n",
       "75%      109.000000\n",
       "max      142.000000\n",
       "dtype: float64"
      ]
     },
     "execution_count": 14,
     "metadata": {},
     "output_type": "execute_result"
    }
   ],
   "source": [
    "length = df['endPoint'] - df['startPoint']\n",
    "length.describe()"
   ]
  },
  {
   "cell_type": "code",
   "execution_count": 15,
   "metadata": {},
   "outputs": [
    {
     "data": {
      "text/plain": [
       "<Axes: ylabel='Count'>"
      ]
     },
     "execution_count": 15,
     "metadata": {},
     "output_type": "execute_result"
    },
    {
     "data": {
      "image/png": "[encoded data removed]",
      "text/plain": [
       "<Figure size 640x480 with 1 Axes>"
      ]
     },
     "metadata": {},
     "output_type": "display_data"
    }
   ],
   "source": [
    "import seaborn as sns\n",
    "sns.histplot(length, bins=100)"
   ]
  }
 ],
 "metadata": {
  "kernelspec": {
   "display_name": ".venv",
   "language": "python",
   "name": "python3"
  },
  "language_info": {
   "codemirror_mode": {
    "name": "ipython",
    "version": 3
   },
   "file_extension": ".py",
   "mimetype": "text/x-python",
   "name": "python",
   "nbconvert_exporter": "python",
   "pygments_lexer": "ipython3",
   "version": "3.12.7"
  }
 },
 "nbformat": 4,
 "nbformat_minor": 2
}
